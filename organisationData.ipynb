{
 "cells": [
  {
   "cell_type": "code",
   "execution_count": 2,
   "id": "d2aefae9-e844-40dd-8dcd-e40ca566ee26",
   "metadata": {},
   "outputs": [
    {
     "name": "stdout",
     "output_type": "stream",
     "text": [
      "Réorganisation terminée. Vérifiez les dossiers train/images et train/labels.\n"
     ]
    }
   ],
   "source": [
    "import os\n",
    "import shutil\n",
    "\n",
    "# Chemins\n",
    "data_dir = \"/Users/mac/Desktop/version pre3/4_webapp/data_images\"\n",
    "train_dir = os.path.join(data_dir, \"train\")\n",
    "test_dir = os.path.join(data_dir, \"test\")\n",
    "\n",
    "# Créer les sous-dossiers\n",
    "for subdir in [\"images\", \"labels\"]:\n",
    "    os.makedirs(os.path.join(train_dir, subdir), exist_ok=True)\n",
    "    os.makedirs(os.path.join(test_dir, subdir), exist_ok=True)\n",
    "\n",
    "# Lister les fichiers dans train/\n",
    "for filename in os.listdir(train_dir):\n",
    "    if filename.endswith((\".jpg\", \".png\", \".jpeg\")):\n",
    "        # Déplacer les images dans train/images/\n",
    "        src = os.path.join(train_dir, filename)\n",
    "        dst = os.path.join(train_dir, \"images\", filename)\n",
    "        shutil.move(src, dst)\n",
    "    elif filename.endswith(\".txt\"):\n",
    "        # Déplacer les annotations dans train/labels/\n",
    "        src = os.path.join(train_dir, filename)\n",
    "        dst = os.path.join(train_dir, \"labels\", filename)\n",
    "        shutil.move(src, dst)\n",
    "\n",
    "print(\"Réorganisation terminée. Vérifiez les dossiers train/images et train/labels.\")"
   ]
  },
  {
   "cell_type": "code",
   "execution_count": 4,
   "id": "ceba7801-a437-4498-a718-23ab2096fa40",
   "metadata": {},
   "outputs": [
    {
     "name": "stdout",
     "output_type": "stream",
     "text": [
      "802 images et annotations déplacées vers test/\n"
     ]
    }
   ],
   "source": [
    "import os\n",
    "import shutil\n",
    "import random\n",
    "\n",
    "data_dir = \"/Users/mac/Desktop/version pre3/4_webapp/data_images\"\n",
    "train_images_dir = os.path.join(data_dir, \"train\", \"images\")\n",
    "train_labels_dir = os.path.join(data_dir, \"train\", \"labels\")\n",
    "test_images_dir = os.path.join(data_dir, \"test\", \"images\")\n",
    "test_labels_dir = os.path.join(data_dir, \"test\", \"labels\")\n",
    "\n",
    "# Créer dossiers si nécessaire\n",
    "os.makedirs(test_images_dir, exist_ok=True)\n",
    "os.makedirs(test_labels_dir, exist_ok=True)\n",
    "\n",
    "# Lister les images\n",
    "images = [f for f in os.listdir(train_images_dir) if f.endswith((\".jpg\", \".png\"))]\n",
    "random.shuffle(images)\n",
    "split_ratio = 0.2  # 20% pour test\n",
    "split_index = int(len(images) * split_ratio)\n",
    "\n",
    "# Déplacer une partie vers test\n",
    "for img in images[:split_index]:\n",
    "    img_path = os.path.join(train_images_dir, img)\n",
    "    label = img.rsplit('.', 1)[0] + \".txt\"\n",
    "    label_path = os.path.join(train_labels_dir, label)\n",
    "    if os.path.exists(label_path):\n",
    "        shutil.move(img_path, os.path.join(test_images_dir, img))\n",
    "        shutil.move(label_path, os.path.join(test_labels_dir, label))\n",
    "\n",
    "print(f\"{split_index} images et annotations déplacées vers test/\")"
   ]
  },
  {
   "cell_type": "code",
   "execution_count": 6,
   "id": "67dbd059-8be6-4081-b2bd-e5e6525bea5d",
   "metadata": {},
   "outputs": [
    {
     "name": "stdout",
     "output_type": "stream",
     "text": [
      "Réorganisation terminée. Vérifiez les dossiers train/images, train/labels, test/images et test/labels.\n"
     ]
    }
   ],
   "source": [
    "import os\n",
    "import shutil\n",
    "\n",
    "# Chemins\n",
    "data_dir = \"/Users/mac/Desktop/version pre3/4_webapp/data_images\"\n",
    "train_dir = os.path.join(data_dir, \"train\")\n",
    "test_dir = os.path.join(data_dir, \"test\")\n",
    "\n",
    "# Créer les sous-dossiers\n",
    "for subdir in [\"images\", \"labels\"]:\n",
    "    os.makedirs(os.path.join(train_dir, subdir), exist_ok=True)\n",
    "    os.makedirs(os.path.join(test_dir, subdir), exist_ok=True)\n",
    "\n",
    "# Lister les fichiers dans train/ et les réorganiser\n",
    "for filename in os.listdir(train_dir):\n",
    "    if filename.endswith((\".jpg\", \".png\", \".jpeg\")):\n",
    "        # Déplacer les images dans train/images/\n",
    "        src = os.path.join(train_dir, filename)\n",
    "        dst = os.path.join(train_dir, \"images\", filename)\n",
    "        shutil.move(src, dst)\n",
    "    elif filename.endswith(\".txt\"):\n",
    "        # Déplacer les annotations dans train/labels/\n",
    "        src = os.path.join(train_dir, filename)\n",
    "        dst = os.path.join(train_dir, \"labels\", filename)\n",
    "        shutil.move(src, dst)\n",
    "\n",
    "# Lister les fichiers dans test/ et les réorganiser\n",
    "for filename in os.listdir(test_dir):\n",
    "    if filename.endswith((\".jpg\", \".png\", \".jpeg\")):\n",
    "        # Déplacer les images dans test/images/\n",
    "        src = os.path.join(test_dir, filename)\n",
    "        dst = os.path.join(test_dir, \"images\", filename)\n",
    "        shutil.move(src, dst)\n",
    "    elif filename.endswith(\".txt\"):\n",
    "        # Déplacer les annotations dans test/labels/\n",
    "        src = os.path.join(test_dir, filename)\n",
    "        dst = os.path.join(test_dir, \"labels\", filename)\n",
    "        shutil.move(src, dst)\n",
    "\n",
    "print(\"Réorganisation terminée. Vérifiez les dossiers train/images, train/labels, test/images et test/labels.\")"
   ]
  },
  {
   "cell_type": "code",
   "execution_count": null,
   "id": "e3c3e3f8-b761-41dd-8354-86a236ee5445",
   "metadata": {},
   "outputs": [],
   "source": []
  }
 ],
 "metadata": {
  "kernelspec": {
   "display_name": "Python [conda env:aims-cv-2025]",
   "language": "python",
   "name": "conda-env-aims-cv-2025-py"
  },
  "language_info": {
   "codemirror_mode": {
    "name": "ipython",
    "version": 3
   },
   "file_extension": ".py",
   "mimetype": "text/x-python",
   "name": "python",
   "nbconvert_exporter": "python",
   "pygments_lexer": "ipython3",
   "version": "3.8.20"
  }
 },
 "nbformat": 4,
 "nbformat_minor": 5
}
